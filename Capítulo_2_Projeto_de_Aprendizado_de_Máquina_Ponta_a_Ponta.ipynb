{
  "nbformat": 4,
  "nbformat_minor": 0,
  "metadata": {
    "colab": {
      "name": "Capítulo 2 : Projeto de Aprendizado de Máquina Ponta a Ponta.ipynb",
      "provenance": [],
      "authorship_tag": "ABX9TyOpCo8jKq0a8QO4dDemgxdC",
      "include_colab_link": true
    },
    "kernelspec": {
      "name": "python3",
      "display_name": "Python 3"
    },
    "language_info": {
      "name": "python"
    }
  },
  "cells": [
    {
      "cell_type": "markdown",
      "metadata": {
        "id": "view-in-github",
        "colab_type": "text"
      },
      "source": [
        "<a href=\"https://colab.research.google.com/github/PabloCoppe/pesquisa/blob/main/Cap%C3%ADtulo_2_Projeto_de_Aprendizado_de_M%C3%A1quina_Ponta_a_Ponta.ipynb\" target=\"_parent\"><img src=\"https://colab.research.google.com/assets/colab-badge.svg\" alt=\"Open In Colab\"/></a>"
      ]
    },
    {
      "cell_type": "code",
      "metadata": {
        "id": "75ljFeFqN1JZ"
      },
      "source": [
        "import os\n",
        "import tarfile\n",
        "import urllib"
      ],
      "execution_count": 1,
      "outputs": []
    },
    {
      "cell_type": "code",
      "metadata": {
        "id": "nIxZ71RRbf1l"
      },
      "source": [
        ""
      ],
      "execution_count": null,
      "outputs": []
    }
  ]
}
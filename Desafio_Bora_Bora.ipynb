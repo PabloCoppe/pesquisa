{
  "nbformat": 4,
  "nbformat_minor": 0,
  "metadata": {
    "colab": {
      "name": "Desafio Bora Bora.ipynb",
      "provenance": [],
      "authorship_tag": "ABX9TyOlXx6HYPp/ryzlURbRIdfl",
      "include_colab_link": true
    },
    "kernelspec": {
      "name": "python3",
      "display_name": "Python 3"
    },
    "language_info": {
      "name": "python"
    }
  },
  "cells": [
    {
      "cell_type": "markdown",
      "metadata": {
        "id": "view-in-github",
        "colab_type": "text"
      },
      "source": [
        "<a href=\"https://colab.research.google.com/github/PabloCoppe/pesquisa/blob/main/Desafio_Bora_Bora.ipynb\" target=\"_parent\"><img src=\"https://colab.research.google.com/assets/colab-badge.svg\" alt=\"Open In Colab\"/></a>"
      ]
    },
    {
      "cell_type": "code",
      "source": [
        "def borabora():\n",
        "  qt = int(input('Digite seu o número de trabalhos: '))\n",
        "  k = int(input('Digite o número de trabalhos avaliados: '))\n",
        "  n = int(input('Digite o número de avaliadores: '))\n",
        "  matriz = [[]]\n",
        "  avaliados = []\n",
        "  avaliadores = []\n",
        "  i = 1\n",
        "  o = 1\n",
        "  while i <= k:\n",
        "    avaliados.append(i)\n",
        "    i+=1\n",
        "  while o <= n:\n",
        "    avaliadores.append(o)\n",
        "    o+=1\n",
        "  return avaliados,avaliadores\n",
        "  def matriz1(avaliados, avaliadores):\n",
        "  matriz = [] # lista vazia\n",
        "  # cria uma linha com valor\n",
        "  linha = [] # lista vazia\n",
        "  for j in range(avaliadores):\n",
        "    if linha[j] != []:\n",
        "      linha.append(j)\n",
        "    else:\n",
        "      linha.append(0)\n",
        "  for i in range(avaliados):\n",
        "  #coloque linha na matriz\n",
        "    matriz.append(linha)\n",
        "  return matriz"
      ],
      "metadata": {
        "id": "0gcjUxI0jbFF"
      },
      "execution_count": 38,
      "outputs": []
    },
    {
      "cell_type": "code",
      "source": [
        "borabora()"
      ],
      "metadata": {
        "colab": {
          "base_uri": "https://localhost:8080/"
        },
        "id": "dP9zLHkzlqst",
        "outputId": "f44646a8-29c9-4385-954f-33f801fe7f91"
      },
      "execution_count": 23,
      "outputs": [
        {
          "name": "stdout",
          "output_type": "stream",
          "text": [
            "Digite seu o número de trabalhos: 4\n",
            "Digite o número de trabalhos avaliados: 3\n",
            "Digite o número de avaliadores: 2\n"
          ]
        },
        {
          "output_type": "execute_result",
          "data": {
            "text/plain": [
              "([1, 2, 3], [1, 2])"
            ]
          },
          "metadata": {},
          "execution_count": 23
        }
      ]
    },
    {
      "cell_type": "code",
      "source": [
        "def matriz1(avaliados, avaliadores):\n",
        "  matriz = [] # lista vazia\n",
        "  # cria uma linha com valor\n",
        "  linha = [] # lista vazia\n",
        "  for j in range(avaliadores):\n",
        "    if linha[j] != []:\n",
        "      linha.append(j)\n",
        "    else:\n",
        "      linha.append(0)\n",
        "  for i in range(avaliados):\n",
        "  #coloque linha na matriz\n",
        "    matriz.append(linha)\n",
        "  return matriz"
      ],
      "metadata": {
        "id": "gZ1wBNkyl95I"
      },
      "execution_count": 43,
      "outputs": []
    },
    {
      "cell_type": "code",
      "source": [
        "matriz1(4,3)"
      ],
      "metadata": {
        "colab": {
          "base_uri": "https://localhost:8080/",
          "height": 287
        },
        "id": "t5Ce8WDxrLoq",
        "outputId": "865827ec-1603-4263-f7b9-bd715cb1b7bd"
      },
      "execution_count": 44,
      "outputs": [
        {
          "output_type": "error",
          "ename": "IndexError",
          "evalue": "ignored",
          "traceback": [
            "\u001b[0;31m---------------------------------------------------------------------------\u001b[0m",
            "\u001b[0;31mIndexError\u001b[0m                                Traceback (most recent call last)",
            "\u001b[0;32m<ipython-input-44-04cc363a87ca>\u001b[0m in \u001b[0;36m<module>\u001b[0;34m()\u001b[0m\n\u001b[0;32m----> 1\u001b[0;31m \u001b[0mmatriz1\u001b[0m\u001b[0;34m(\u001b[0m\u001b[0;36m4\u001b[0m\u001b[0;34m,\u001b[0m\u001b[0;36m3\u001b[0m\u001b[0;34m)\u001b[0m\u001b[0;34m\u001b[0m\u001b[0;34m\u001b[0m\u001b[0m\n\u001b[0m",
            "\u001b[0;32m<ipython-input-43-5676cfd60fb6>\u001b[0m in \u001b[0;36mmatriz1\u001b[0;34m(avaliados, avaliadores)\u001b[0m\n\u001b[1;32m      4\u001b[0m   \u001b[0mlinha\u001b[0m \u001b[0;34m=\u001b[0m \u001b[0;34m[\u001b[0m\u001b[0;34m]\u001b[0m \u001b[0;31m# lista vazia\u001b[0m\u001b[0;34m\u001b[0m\u001b[0;34m\u001b[0m\u001b[0m\n\u001b[1;32m      5\u001b[0m   \u001b[0;32mfor\u001b[0m \u001b[0mj\u001b[0m \u001b[0;32min\u001b[0m \u001b[0mrange\u001b[0m\u001b[0;34m(\u001b[0m\u001b[0mavaliadores\u001b[0m\u001b[0;34m)\u001b[0m\u001b[0;34m:\u001b[0m\u001b[0;34m\u001b[0m\u001b[0;34m\u001b[0m\u001b[0m\n\u001b[0;32m----> 6\u001b[0;31m     \u001b[0;32mif\u001b[0m \u001b[0mlinha\u001b[0m\u001b[0;34m[\u001b[0m\u001b[0mj\u001b[0m\u001b[0;34m]\u001b[0m \u001b[0;34m!=\u001b[0m \u001b[0;34m[\u001b[0m\u001b[0;34m]\u001b[0m\u001b[0;34m:\u001b[0m\u001b[0;34m\u001b[0m\u001b[0;34m\u001b[0m\u001b[0m\n\u001b[0m\u001b[1;32m      7\u001b[0m       \u001b[0mlinha\u001b[0m\u001b[0;34m.\u001b[0m\u001b[0mappend\u001b[0m\u001b[0;34m(\u001b[0m\u001b[0mj\u001b[0m\u001b[0;34m)\u001b[0m\u001b[0;34m\u001b[0m\u001b[0;34m\u001b[0m\u001b[0m\n\u001b[1;32m      8\u001b[0m     \u001b[0;32melse\u001b[0m\u001b[0;34m:\u001b[0m\u001b[0;34m\u001b[0m\u001b[0;34m\u001b[0m\u001b[0m\n",
            "\u001b[0;31mIndexError\u001b[0m: list index out of range"
          ]
        }
      ]
    },
    {
      "cell_type": "code",
      "source": [
        ""
      ],
      "metadata": {
        "id": "WfbIkHb7rQHk"
      },
      "execution_count": null,
      "outputs": []
    }
  ]
}
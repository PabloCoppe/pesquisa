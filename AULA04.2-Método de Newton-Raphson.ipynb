{
 "cells": [
  {
   "cell_type": "markdown",
   "metadata": {
    "id": "9bAd8jK5SGED"
   },
   "source": [
    "**Método de Newton-Raphson**"
   ]
  },
  {
   "cell_type": "code",
   "execution_count": null,
   "metadata": {
    "id": "-9Xr344onDjC"
   },
   "outputs": [],
   "source": [
    "''' Metodo de Newton para computar o zero de uma funcao'''\n",
    "# emxplo f(x) = 5x^4 - sen(x) com derivada f´(x) = 20x^3 - cos(x)\n",
    "import math\n",
    "def f(x):\n",
    "  return 5*x**4 - math.sin(x)\n",
    "def f_linha(x):\n",
    "  return 20*x**3 - math.cos(x)\n",
    "def metodonewton():\n",
    "  x0=float(input(\"Digite a aproximação inicial x0: \"))\n",
    "  iteracoes=int(input(\"Digite o número de iterações: \"))\n",
    "  iteracao = 0\n",
    "  r1=[]\n",
    "  r2=[]\n",
    "  while iteracao <= iteracoes:\n",
    "    x1 = x0 - f(x0) / f_linha(x0)\n",
    "    x0 = x1\n",
    "    iteracao = iteracao + 1\n",
    "    list.append(r1,x1)\n",
    "    list.append(r2,f(x1))\n",
    "  print(\"A raiz encontrada x = \",x1)\n",
    "  print(\"f(x) = \",f(x1))\n",
    "  print(\" Valores de xi \",r1)\n",
    "  print(\" Valores de f(xi) obtidos \",r2)"
   ]
  },
  {
   "cell_type": "code",
   "execution_count": null,
   "metadata": {
    "colab": {
     "base_uri": "https://localhost:8080/"
    },
    "executionInfo": {
     "elapsed": 7210,
     "status": "ok",
     "timestamp": 1618535270099,
     "user": {
      "displayName": "Pablo Tentempo Steiner",
      "photoUrl": "https://lh3.googleusercontent.com/a-/AOh14Giz09PGERba_qDDs7pFNPXRte9p-iFUbOo-UhvJ=s64",
      "userId": "03253818642160593474"
     },
     "user_tz": 180
    },
    "id": "2iLcmkiVnvQU",
    "outputId": "a6fa29d0-8c49-4c81-f4fe-c67117407b7a"
   },
   "outputs": [
    {
     "name": "stdout",
     "output_type": "stream",
     "text": [
      "Digite a aproximação inicial x0: 0.5\n",
      "Digite o número de iterações: 4\n",
      "A raiz encontrada x =  0.5740758144661297\n",
      "f(x) =  1.1102230246251565e-16\n",
      " Valores de xi  [0.6028869233547549, 0.5766042123939396, 0.5740976174641831, 0.5740758161061502, 0.5740758144661297]\n",
      " Valores de f(xi) obtidos  [0.09353901090047434, 0.007509209804001937, 6.419697339399288e-05, 4.828530353329086e-09, 1.1102230246251565e-16]\n"
     ]
    }
   ],
   "source": [
    "metodonewton()\n"
   ]
  },
  {
   "cell_type": "code",
   "execution_count": null,
   "metadata": {
    "id": "oZvvsWpuR3CA"
   },
   "outputs": [],
   "source": [
    "''' Metodo de Newton para computar o zero de uma funcao'''\n",
    "import math\n",
    "def f(x):\n",
    "  return x**2-x-2\n",
    "def f_linha(x):\n",
    "  return 2**x-1\n",
    "def metodonewton():\n",
    "  x0=float(input(\"Digite a aproximação inicial x0: \"))\n",
    "  iteracoes=int(input(\"Digite o número de iterações: \"))\n",
    "  iteracao = 0\n",
    "  r1=[]\n",
    "  r2=[]\n",
    "  while iteracao <= iteracoes:\n",
    "    x1 = x0 - f(x0) / f_linha(x0)\n",
    "    x0 = x1\n",
    "    iteracao = iteracao + 1\n",
    "    list.append(r1,x1)\n",
    "    list.append(r2,f(x1))\n",
    "  print(\"A raiz encontrada x = \",x1)\n",
    "  print(\"f(x) = \",f(x1))\n",
    "  print(\" Valores de xi \",r1)\n",
    "  print(\" Valores de f(xi) obtidos \",r2)\n"
   ]
  },
  {
   "cell_type": "code",
   "execution_count": null,
   "metadata": {
    "id": "L0428I71gc-1"
   },
   "outputs": [],
   "source": []
  },
  {
   "cell_type": "code",
   "execution_count": null,
   "metadata": {
    "colab": {
     "base_uri": "https://localhost:8080/"
    },
    "executionInfo": {
     "elapsed": 6682,
     "status": "ok",
     "timestamp": 1618523178061,
     "user": {
      "displayName": "Pablo Tentempo Steiner",
      "photoUrl": "https://lh3.googleusercontent.com/a-/AOh14Giz09PGERba_qDDs7pFNPXRte9p-iFUbOo-UhvJ=s64",
      "userId": "03253818642160593474"
     },
     "user_tz": 180
    },
    "id": "6zE47Bt9bZOD",
    "outputId": "b149abd5-3cd9-4e0e-84c9-e31383b0370f"
   },
   "outputs": [
    {
     "name": "stdout",
     "output_type": "stream",
     "text": [
      "Digite a aproximação inicial x0: 4\n",
      "Digite o número de iterações: 4\n",
      "A raiz encontrada x =  2.0004604521757963\n",
      "f(x) =  0.0013815685435951686\n",
      " Valores de xi  [3.3333333333333335, 2.6969699296506535, 2.227149431131017, 2.0280648764842435, 2.0004604521757963]\n",
      " Valores de f(xi) obtidos  [5.777777777777779, 2.5766768717891972, 0.7330451574561954, 0.08498226674480636, 0.0013815685435951686]\n"
     ]
    }
   ],
   "source": [
    "metodonewton()"
   ]
  },
  {
   "cell_type": "code",
   "execution_count": null,
   "metadata": {
    "id": "LeIpUELibbxz"
   },
   "outputs": [],
   "source": [
    "''' Metodo de Newton para computar o zero de uma funcao'''\n",
    "import math\n",
    "import numpy as np\n",
    "def f(x):\n",
    "  return (1)\n",
    "def f_linha(x):\n",
    "  return  (2)\n",
    "def metodonewton():\n",
    "  x0=float(input(\"Digite a aproximação inicial x0: \"))\n",
    "  iteracoes=int(input(\"Digite o número de iterações: \"))\n",
    "  iteracao = 0\n",
    "  r1=[]\n",
    "  r2=[]\n",
    "  erro = (3)\n",
    "  while iteracao <= iteracoes or abs( (4) ):\n",
    "    x1 = x0 - f(x0) / f_linha(x0)\n",
    "    x0 = x1\n",
    "    iteracao = iteracao + 1\n",
    "    list.append(r1,x1)\n",
    "    list.append(r2,f(x1))\n",
    "  print(\"A raiz encontrada x = \",x1)\n",
    "  print(\"f(x) = \",f(x1))\n",
    "  print(\" Valores de xi \",r1)\n",
    "  print(\" Valores de f(xi) obtidos \",r2)"
   ]
  },
  {
   "cell_type": "code",
   "execution_count": null,
   "metadata": {
    "colab": {
     "base_uri": "https://localhost:8080/"
    },
    "executionInfo": {
     "elapsed": 6962,
     "status": "ok",
     "timestamp": 1619139660471,
     "user": {
      "displayName": "Pablo Tentempo Steiner",
      "photoUrl": "https://lh3.googleusercontent.com/a-/AOh14Giz09PGERba_qDDs7pFNPXRte9p-iFUbOo-UhvJ=s64",
      "userId": "03253818642160593474"
     },
     "user_tz": 180
    },
    "id": "r-6Xxt5OHmVg",
    "outputId": "1fc3339d-c3d3-44f4-d56b-aba534c4d80d"
   },
   "outputs": [
    {
     "name": "stdout",
     "output_type": "stream",
     "text": [
      "Digite a aproximação inicial x0: 0\n",
      "Digite o número de iterações: 5\n",
      "A raiz encontrada x =  0.45018361129487355\n",
      "f(x) =  0.0\n",
      " Valores de xi  [0.5, 0.45062669307724307, 0.45018364757777474, 0.45018361129487383, 0.45018361129487355, 0.45018361129487355]\n",
      " Valores de f(xi) obtidos  [0.12241743810962724, 0.0010790504957215452, 8.835361287040655e-08, 6.661338147750939e-16, 0.0, 0.0]\n"
     ]
    }
   ],
   "source": [
    "metodonewton()"
   ]
  },
  {
   "cell_type": "code",
   "execution_count": null,
   "metadata": {
    "id": "IE7uxUyMgrrr"
   },
   "outputs": [],
   "source": [
    "''' Metodo de Newton para computar o zero de uma funcao'''\n",
    "import math\n",
    "def f(x):\n",
    "  return 2*x-math.cos(x)\n",
    "def f_linha(x):\n",
    "  return 2 + math.sin(x)\n",
    "def metodonewton1():\n",
    "  x0=float(input(\"Digite a aproximação inicial x0: \"))\n",
    "  iteracoes=int(input(\"Digite o número de iterações: \"))\n",
    "  iteracao = 0\n",
    "  r1=[]\n",
    "  r2=[]\n",
    "  while iteracao <= iteracoes:\n",
    "    x1 = x0 - f(x0) / f_linha(x0)\n",
    "    x0 = x1\n",
    "    iteracao = iteracao + 1\n",
    "    list.append(r1,x1)\n",
    "    list.append(r2,f(x1))\n",
    "  print(\"A raiz encontrada x = \",x1)\n",
    "  print(\"f(x) = \",f(x1))\n",
    "  print(\" Valores de xi \",r1)\n",
    "  print(\" Valores de f(xi) obtidos \",r2)"
   ]
  },
  {
   "cell_type": "code",
   "execution_count": null,
   "metadata": {
    "colab": {
     "base_uri": "https://localhost:8080/"
    },
    "executionInfo": {
     "elapsed": 13813,
     "status": "ok",
     "timestamp": 1618523826150,
     "user": {
      "displayName": "Pablo Tentempo Steiner",
      "photoUrl": "https://lh3.googleusercontent.com/a-/AOh14Giz09PGERba_qDDs7pFNPXRte9p-iFUbOo-UhvJ=s64",
      "userId": "03253818642160593474"
     },
     "user_tz": 180
    },
    "id": "_zO7bT8Zg206",
    "outputId": "279d8754-3c24-4faa-9852-d3a935d98921"
   },
   "outputs": [
    {
     "name": "stdout",
     "output_type": "stream",
     "text": [
      "Digite a aproximação inicial x0: 0.39\n",
      "Digite o número de iterações: 3\n",
      "A raiz encontrada x =  0.4501836112948736\n",
      "f(x) =  1.1102230246251565e-16\n",
      " Valores de xi  [0.45088133987065676, 0.45018370125099005, 0.45018361129487505, 0.4501836112948736]\n",
      " Valores de f(xi) obtidos  [0.001699279522189956, 2.1905491887075357e-07, 3.552713678800501e-15, 1.1102230246251565e-16]\n"
     ]
    }
   ],
   "source": [
    "metodonewton1()\n"
   ]
  }
 ],
 "metadata": {
  "colab": {
   "authorship_tag": "ABX9TyNckfES3PtpcSIzPXS/GRLO",
   "collapsed_sections": [],
   "name": "AULA04.2-Método de Newton-Raphson.ipynb",
   "provenance": []
  },
  "kernelspec": {
   "display_name": "Python 3",
   "language": "python",
   "name": "python3"
  },
  "language_info": {
   "codemirror_mode": {
    "name": "ipython",
    "version": 3
   },
   "file_extension": ".py",
   "mimetype": "text/x-python",
   "name": "python",
   "nbconvert_exporter": "python",
   "pygments_lexer": "ipython3",
   "version": "3.8.5"
  }
 },
 "nbformat": 4,
 "nbformat_minor": 1
}
